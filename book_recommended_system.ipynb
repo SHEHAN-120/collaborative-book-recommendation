{
  "cells": [
    {
      "cell_type": "markdown",
      "metadata": {
        "id": "view-in-github",
        "colab_type": "text"
      },
      "source": [
        "<a href=\"https://colab.research.google.com/github/SHEHAN-120/collaborative-book-recommendation/blob/main/book_recommended_system.ipynb\" target=\"_parent\"><img src=\"https://colab.research.google.com/assets/colab-badge.svg\" alt=\"Open In Colab\"/></a>"
      ]
    },
    {
      "cell_type": "markdown",
      "source": [
        "## Book Recommended System"
      ],
      "metadata": {
        "id": "diEC_S2Yn72M"
      }
    },
    {
      "cell_type": "code",
      "source": [
        "import pandas as pd\n",
        "from sklearn.metrics.pairwise import cosine_similarity"
      ],
      "metadata": {
        "id": "-1LDsus5fyx_"
      },
      "execution_count": 1,
      "outputs": []
    },
    {
      "cell_type": "code",
      "source": [
        "data={\n",
        "    'user_id':[1,1,1,2,2,3,3,3,4,4],\n",
        "    'book_title': [\n",
        "        'Book A','Book B','Book C','Book A','Book D',\n",
        "        'Book B','Book C','Book E','Book A','Book C'\n",
        "    ],\n",
        "    'rating': [5,3,4,4,5,5,3,4,3,2]\n",
        "}"
      ],
      "metadata": {
        "id": "MFVtClMAf8pt"
      },
      "execution_count": 2,
      "outputs": []
    },
    {
      "cell_type": "code",
      "source": [
        "df=pd.DataFrame(data)\n",
        "print(\"Dataset:\\n\",df)"
      ],
      "metadata": {
        "id": "6VAhQPPygmQh",
        "outputId": "c3ed59b5-1353-4847-87ca-05a99304b1e0",
        "colab": {
          "base_uri": "https://localhost:8080/"
        }
      },
      "execution_count": 3,
      "outputs": [
        {
          "output_type": "stream",
          "name": "stdout",
          "text": [
            "Dataset:\n",
            "    user_id book_title  rating\n",
            "0        1     Book A       5\n",
            "1        1     Book B       3\n",
            "2        1     Book C       4\n",
            "3        2     Book A       4\n",
            "4        2     Book D       5\n",
            "5        3     Book B       5\n",
            "6        3     Book C       3\n",
            "7        3     Book E       4\n",
            "8        4     Book A       3\n",
            "9        4     Book C       2\n"
          ]
        }
      ]
    },
    {
      "cell_type": "code",
      "source": [
        "user_book_matrix=df.pivot_table(index='user_id',columns='book_title',values='rating').fillna(0)\n",
        "print(\"\\nUser-Book Matrix:\\n\",user_book_matrix)"
      ],
      "metadata": {
        "id": "NJvtXQaSgyDA",
        "outputId": "bada038d-351f-4c2e-d74d-2b2af6c6688e",
        "colab": {
          "base_uri": "https://localhost:8080/"
        }
      },
      "execution_count": 4,
      "outputs": [
        {
          "output_type": "stream",
          "name": "stdout",
          "text": [
            "\n",
            "User-Book Matrix:\n",
            " book_title  Book A  Book B  Book C  Book D  Book E\n",
            "user_id                                           \n",
            "1              5.0     3.0     4.0     0.0     0.0\n",
            "2              4.0     0.0     0.0     5.0     0.0\n",
            "3              0.0     5.0     3.0     0.0     4.0\n",
            "4              3.0     0.0     2.0     0.0     0.0\n"
          ]
        }
      ]
    },
    {
      "cell_type": "markdown",
      "source": [
        "### Calculate Cosine Similarity"
      ],
      "metadata": {
        "id": "B-eBxoxvhiKC"
      }
    },
    {
      "cell_type": "code",
      "source": [
        "user_similarity=cosine_similarity(user_book_matrix)\n",
        "user_similarity_df=pd.DataFrame(user_similarity,index=user_book_matrix.index,columns=user_book_matrix.index)\n",
        "print(\"\\nUser Similarity Matrix:\\n\",user_similarity_df)"
      ],
      "metadata": {
        "id": "T59lRbYzhla7",
        "outputId": "80dd7b31-50b1-4eaf-f8b2-547ce9ebc6ab",
        "colab": {
          "base_uri": "https://localhost:8080/"
        }
      },
      "execution_count": 5,
      "outputs": [
        {
          "output_type": "stream",
          "name": "stdout",
          "text": [
            "\n",
            "User Similarity Matrix:\n",
            " user_id         1         2         3         4\n",
            "user_id                                        \n",
            "1        1.000000  0.441726  0.540000  0.902134\n",
            "2        0.441726  1.000000  0.000000  0.519778\n",
            "3        0.540000  0.000000  1.000000  0.235339\n",
            "4        0.902134  0.519778  0.235339  1.000000\n"
          ]
        }
      ]
    },
    {
      "cell_type": "code",
      "source": [
        "def recommend_books(user_id,similarity_matrix,user_book_matrix,top_n=3):\n",
        "  if user_id not in similarity_matrix.index:\n",
        "    print(\"User not found in the dataset\")\n",
        "    return[]\n",
        "\n",
        "  similar_users=similarity_matrix[user_id].sort_values(ascending=False).drop(user_id)\n",
        "\n",
        "  recommended_books={}\n",
        "  for sim_user,similarity in similar_users.items():\n",
        "    rated_books=user_book_matrix.loc[sim_user]\n",
        "    for book,rating in rated_books[rated_books>0].items():\n",
        "      if book not in user_book_matrix.loc[user_id] or user_book_matrix.loc[user_id,book]==0:\n",
        "        recommended_books[book]=recommended_books.get(book,0) + rating * similarity\n",
        "\n",
        "  recommended_books=sorted(recommended_books.items(),key=lambda x:x[1],reverse=True)\n",
        "  return [book for book,score in recommended_books[:top_n]]\n",
        "\n",
        "\n"
      ],
      "metadata": {
        "id": "um712W-YiQqj"
      },
      "execution_count": 6,
      "outputs": []
    },
    {
      "cell_type": "code",
      "source": [
        "user_id=3\n",
        "recommended_books=recommend_books(user_id,user_similarity_df,user_book_matrix,top_n=3)\n",
        "print(f\"\\nRecommended Books for User {user_id}:\", recommended_books)\n",
        "\n",
        "\n"
      ],
      "metadata": {
        "id": "y-a-Vug2jGhq",
        "outputId": "effc7aee-e026-4ced-fdd0-acd3f779848a",
        "colab": {
          "base_uri": "https://localhost:8080/"
        }
      },
      "execution_count": 7,
      "outputs": [
        {
          "output_type": "stream",
          "name": "stdout",
          "text": [
            "\n",
            "Recommended Books for User 3: ['Book A', 'Book D']\n"
          ]
        }
      ]
    }
  ],
  "metadata": {
    "colab": {
      "toc_visible": true,
      "provenance": [],
      "include_colab_link": true
    },
    "kernelspec": {
      "display_name": "Python 3",
      "name": "python3"
    }
  },
  "nbformat": 4,
  "nbformat_minor": 0
}